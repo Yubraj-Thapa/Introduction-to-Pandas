{
 "cells": [
  {
   "cell_type": "code",
   "execution_count": 1,
   "id": "023ff8e2-1cfa-4279-acc2-10248f1481b8",
   "metadata": {},
   "outputs": [],
   "source": [
    "import pandas as pd\n"
   ]
  },
  {
   "cell_type": "code",
   "execution_count": 4,
   "id": "6baa936f-3681-40d3-b5b0-7da8d7624c74",
   "metadata": {},
   "outputs": [
    {
     "data": {
      "text/plain": [
       "0     Apple\n",
       "1    Orange\n",
       "2    Banana\n",
       "dtype: object"
      ]
     },
     "execution_count": 4,
     "metadata": {},
     "output_type": "execute_result"
    }
   ],
   "source": [
    "fruits = pd.Series([\"Apple\", \"Orange\", \"Banana\"])\n",
    "fruits\n"
   ]
  },
  {
   "cell_type": "code",
   "execution_count": 6,
   "id": "0461d036-3f66-4f81-b22e-ba8beb28faa3",
   "metadata": {},
   "outputs": [
    {
     "data": {
      "text/plain": [
       "['Apple', 'Avocardo', 'Banana']"
      ]
     },
     "execution_count": 6,
     "metadata": {},
     "output_type": "execute_result"
    }
   ],
   "source": [
    "fruits = [\"Apple\", \"Avocardo\", \"Banana\"]\n",
    "fruits"
   ]
  },
  {
   "cell_type": "code",
   "execution_count": 12,
   "id": "38531a1d-069e-4570-bdb9-7ffbe38fb359",
   "metadata": {},
   "outputs": [
    {
     "data": {
      "text/plain": [
       "0       Apple\n",
       "1    Avocardo\n",
       "2      Banana\n",
       "dtype: object"
      ]
     },
     "execution_count": 12,
     "metadata": {},
     "output_type": "execute_result"
    }
   ],
   "source": [
    "fruits = pd.Series(fruits)\n",
    "fruits"
   ]
  },
  {
   "cell_type": "code",
   "execution_count": null,
   "id": "945d63e3-6305-432b-bcdb-383e90b2f126",
   "metadata": {},
   "outputs": [],
   "source": [
    "car = "
   ]
  }
 ],
 "metadata": {
  "kernelspec": {
   "display_name": "Python 3 (ipykernel)",
   "language": "python",
   "name": "python3"
  },
  "language_info": {
   "codemirror_mode": {
    "name": "ipython",
    "version": 3
   },
   "file_extension": ".py",
   "mimetype": "text/x-python",
   "name": "python",
   "nbconvert_exporter": "python",
   "pygments_lexer": "ipython3",
   "version": "3.12.4"
  }
 },
 "nbformat": 4,
 "nbformat_minor": 5
}
